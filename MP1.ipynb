{
 "cells": [
  {
   "cell_type": "markdown",
   "metadata": {},
   "source": [
    "What percentage of respondents were freshman, sophomores, juniors, seniors, and grad students?"
   ]
  },
  {
   "cell_type": "code",
   "execution_count": 3,
   "metadata": {},
   "outputs": [
    {
     "name": "stdout",
     "output_type": "stream",
     "text": [
      "What year in college are you?\n",
      "Freshman        37.037037\n",
      "Sophomore       29.629630\n",
      "Junior          18.518519\n",
      "Senior          11.111111\n",
      "Grad Student     3.703704\n",
      "Name: count, dtype: float64\n"
     ]
    }
   ],
   "source": [
    "import pandas as pd\n",
    "\n",
    "file_path = 'MP1Form.csv'\n",
    "\n",
    "column_name = 'What year in college are you?'\n",
    "\n",
    "df = pd.read_csv(file_path)\n",
    "\n",
    "answer_counts = df[column_name].value_counts()\n",
    "\n",
    "answer_percentages = (answer_counts / len(df)) * 100\n",
    "\n",
    "print(answer_percentages)\n"
   ]
  },
  {
   "cell_type": "markdown",
   "metadata": {},
   "source": [
    "My respondents were 37% freshmen, 30% sophomores, 19% juniors, 11% seniors, and 4% grad students."
   ]
  },
  {
   "cell_type": "markdown",
   "metadata": {},
   "source": [
    "What were the percentages of gender?"
   ]
  },
  {
   "cell_type": "code",
   "execution_count": 4,
   "metadata": {},
   "outputs": [
    {
     "name": "stdout",
     "output_type": "stream",
     "text": [
      "What is your gender?\n",
      "Male      96.296296\n",
      "Xe/xim     3.703704\n",
      "Name: count, dtype: float64\n"
     ]
    }
   ],
   "source": [
    "import pandas as pd\n",
    "\n",
    "file_path = 'MP1Form.csv'\n",
    "\n",
    "column_name = 'What is your gender?'\n",
    "\n",
    "df = pd.read_csv(file_path)\n",
    "\n",
    "answer_counts = df[column_name].value_counts()\n",
    "\n",
    "answer_percentages = (answer_counts / len(df)) * 100\n",
    "\n",
    "print(answer_percentages)"
   ]
  },
  {
   "cell_type": "markdown",
   "metadata": {},
   "source": [
    "My respondents were 96% male and one person used the \"other\" option to answer \"Xe/xim.\""
   ]
  },
  {
   "cell_type": "markdown",
   "metadata": {},
   "source": [
    "What schools were the respondents a part of?"
   ]
  },
  {
   "cell_type": "code",
   "execution_count": 5,
   "metadata": {},
   "outputs": [
    {
     "name": "stdout",
     "output_type": "stream",
     "text": [
      "What Berry school is your major a part of?\n",
      "Campbell School of Business                       59.259259\n",
      "School of Mathematical and Natural Sciences       18.518519\n",
      "Charter School of Education and Human Sciences    11.111111\n",
      "Other/Undecided Major                             11.111111\n",
      "Name: count, dtype: float64\n"
     ]
    }
   ],
   "source": [
    "import pandas as pd\n",
    "\n",
    "file_path = 'MP1Form.csv'\n",
    "\n",
    "column_name = 'What Berry school is your major a part of?'\n",
    "\n",
    "df = pd.read_csv(file_path)\n",
    "\n",
    "answer_counts = df[column_name].value_counts()\n",
    "\n",
    "answer_percentages = (answer_counts / len(df)) * 100\n",
    "\n",
    "print(answer_percentages)"
   ]
  },
  {
   "cell_type": "markdown",
   "metadata": {},
   "source": [
    "59% were in the business school, 19% were in the school of mathematical and natural sciences, 11% were in the school of education and human sciences, and 11% were other/undecided major."
   ]
  },
  {
   "cell_type": "markdown",
   "metadata": {},
   "source": [
    "Were the respondents student athletes?"
   ]
  },
  {
   "cell_type": "code",
   "execution_count": 7,
   "metadata": {},
   "outputs": [
    {
     "name": "stdout",
     "output_type": "stream",
     "text": [
      "Are you a student-athlete?\n",
      "Yes    100.0\n",
      "Name: count, dtype: float64\n"
     ]
    }
   ],
   "source": [
    "import pandas as pd\n",
    "\n",
    "file_path = 'MP1Form.csv'\n",
    "\n",
    "column_name = 'Are you a student-athlete?'\n",
    "\n",
    "df = pd.read_csv(file_path)\n",
    "\n",
    "answer_counts = df[column_name].value_counts()\n",
    "\n",
    "answer_percentages = (answer_counts / len(df)) * 100\n",
    "\n",
    "print(answer_percentages)"
   ]
  },
  {
   "cell_type": "markdown",
   "metadata": {},
   "source": [
    "100% of my respondents were student-athletes."
   ]
  },
  {
   "cell_type": "markdown",
   "metadata": {},
   "source": [
    "How many hours a week do you spend doing homework and studying?"
   ]
  },
  {
   "cell_type": "code",
   "execution_count": 8,
   "metadata": {},
   "outputs": [
    {
     "name": "stdout",
     "output_type": "stream",
     "text": [
      "How many hours a week do you spend doing homework and studying on average?\n",
      "5-6      29.629630\n",
      "3-4      25.925926\n",
      "7-8      22.222222\n",
      "15+       7.407407\n",
      "11-12     7.407407\n",
      "9-10      3.703704\n",
      "1-2       3.703704\n",
      "Name: count, dtype: float64\n"
     ]
    }
   ],
   "source": [
    "import pandas as pd\n",
    "\n",
    "file_path = 'MP1Form.csv'\n",
    "\n",
    "column_name = 'How many hours a week do you spend doing homework and studying on average?'\n",
    "\n",
    "df = pd.read_csv(file_path)\n",
    "\n",
    "answer_counts = df[column_name].value_counts()\n",
    "\n",
    "answer_percentages = (answer_counts / len(df)) * 100\n",
    "\n",
    "print(answer_percentages)"
   ]
  },
  {
   "cell_type": "markdown",
   "metadata": {},
   "source": [
    "4% spent 1-2, 26% spent 3-4, 30% spent 5-6, 22% spent 7-8, 4% spent 9-10, 7% spent 11-12, and 7% spent 15+."
   ]
  },
  {
   "cell_type": "markdown",
   "metadata": {},
   "source": [
    "When did these respondents do homework and study?"
   ]
  },
  {
   "cell_type": "code",
   "execution_count": 9,
   "metadata": {},
   "outputs": [
    {
     "name": "stdout",
     "output_type": "stream",
     "text": [
      "When do you usually do homework and study?\n",
      "Night      66.666667\n",
      "Evening    22.222222\n",
      "Morning    11.111111\n",
      "Name: count, dtype: float64\n"
     ]
    }
   ],
   "source": [
    "import pandas as pd\n",
    "\n",
    "file_path = 'MP1Form.csv'\n",
    "\n",
    "column_name = 'When do you usually do homework and study?'\n",
    "\n",
    "df = pd.read_csv(file_path)\n",
    "\n",
    "answer_counts = df[column_name].value_counts()\n",
    "\n",
    "answer_percentages = (answer_counts / len(df)) * 100\n",
    "\n",
    "print(answer_percentages)"
   ]
  },
  {
   "cell_type": "markdown",
   "metadata": {},
   "source": [
    "67% were at night, 22% were at evening, and 11% were in the morning."
   ]
  },
  {
   "cell_type": "code",
   "execution_count": 10,
   "metadata": {},
   "outputs": [
    {
     "name": "stdout",
     "output_type": "stream",
     "text": [
      "Where do you usually do homework and study?\n",
      "Dorm           44.444444\n",
      "Apartment      25.925926\n",
      "Library        18.518519\n",
      "Common Area     7.407407\n",
      "Bathroom        3.703704\n",
      "Name: count, dtype: float64\n"
     ]
    }
   ],
   "source": [
    "import pandas as pd\n",
    "\n",
    "file_path = 'MP1Form.csv'\n",
    "\n",
    "column_name = 'Where do you usually do homework and study?'\n",
    "\n",
    "df = pd.read_csv(file_path)\n",
    "\n",
    "answer_counts = df[column_name].value_counts()\n",
    "\n",
    "answer_percentages = (answer_counts / len(df)) * 100\n",
    "\n",
    "print(answer_percentages)"
   ]
  },
  {
   "cell_type": "markdown",
   "metadata": {},
   "source": [
    "44% in dorm, 26% in apartment, 19% in library, 7% in common area, and one person used the \"other\" option to say bathroom (3.7%)."
   ]
  },
  {
   "cell_type": "markdown",
   "metadata": {},
   "source": [
    "Why do you do homework and study?"
   ]
  },
  {
   "cell_type": "code",
   "execution_count": 11,
   "metadata": {},
   "outputs": [
    {
     "name": "stdout",
     "output_type": "stream",
     "text": [
      "Why do you spend time doing homework or studying?\n",
      "I want to get a good job                              29.629630\n",
      "I just want to do my best                             25.925926\n",
      "I just want a good GPA                                18.518519\n",
      "I want to make my parents happy                        7.407407\n",
      "I do what I an required                                3.703704\n",
      "All of the above                                       3.703704\n",
      "All of the above                                       3.703704\n",
      "Grad school                                            3.703704\n",
      "I want to be academically eligible to play a sport     3.703704\n",
      "Name: count, dtype: float64\n"
     ]
    }
   ],
   "source": [
    "import pandas as pd\n",
    "\n",
    "file_path = 'MP1Form.csv'\n",
    "\n",
    "column_name = 'Why do you spend time doing homework or studying?'\n",
    "\n",
    "df = pd.read_csv(file_path)\n",
    "\n",
    "answer_counts = df[column_name].value_counts()\n",
    "\n",
    "answer_percentages = (answer_counts / len(df)) * 100\n",
    "\n",
    "print(answer_percentages)"
   ]
  },
  {
   "cell_type": "markdown",
   "metadata": {},
   "source": [
    "30% want to get a good job, 26% want to do their best, 19% want a good GPA, 7% want to make parents happy, and 4% academically eligible. Multiple people used the \"other\" option. 8% were all of the above, 4% were I do what I am required, and 4% were grad school."
   ]
  },
  {
   "cell_type": "markdown",
   "metadata": {},
   "source": [
    "Why do you study or do homework at the times you do?"
   ]
  },
  {
   "cell_type": "code",
   "execution_count": 12,
   "metadata": {},
   "outputs": [
    {
     "name": "stdout",
     "output_type": "stream",
     "text": [
      "Why do you do homework and study at the times you do?\n",
      "I am usually free at this time       88.888889\n",
      "I am most productive at this time    11.111111\n",
      "Name: count, dtype: float64\n"
     ]
    }
   ],
   "source": [
    "import pandas as pd\n",
    "\n",
    "file_path = 'MP1Form.csv'\n",
    "\n",
    "column_name = 'Why do you do homework and study at the times you do?'\n",
    "\n",
    "df = pd.read_csv(file_path)\n",
    "\n",
    "answer_counts = df[column_name].value_counts()\n",
    "\n",
    "answer_percentages = (answer_counts / len(df)) * 100\n",
    "\n",
    "print(answer_percentages)"
   ]
  },
  {
   "cell_type": "markdown",
   "metadata": {},
   "source": [
    "89% were free at the time and 11% were productive at the time. "
   ]
  },
  {
   "cell_type": "markdown",
   "metadata": {},
   "source": [
    "Why do you do homework and study at the place you do?"
   ]
  },
  {
   "cell_type": "code",
   "execution_count": 13,
   "metadata": {},
   "outputs": [
    {
     "name": "stdout",
     "output_type": "stream",
     "text": [
      "Why do you do homework and study at the place you do?\n",
      "I live there                40.740741\n",
      "It is quiet there           40.740741\n",
      "I work with others there    14.814815\n",
      "I work there                 3.703704\n",
      "Name: count, dtype: float64\n"
     ]
    }
   ],
   "source": [
    "import pandas as pd\n",
    "\n",
    "file_path = 'MP1Form.csv'\n",
    "\n",
    "column_name = 'Why do you do homework and study at the place you do?'\n",
    "\n",
    "df = pd.read_csv(file_path)\n",
    "\n",
    "answer_counts = df[column_name].value_counts()\n",
    "\n",
    "answer_percentages = (answer_counts / len(df)) * 100\n",
    "\n",
    "print(answer_percentages)"
   ]
  },
  {
   "cell_type": "markdown",
   "metadata": {},
   "source": [
    "41% live there, 41% because it is quiet there, 15% work with others there, and 4% work there."
   ]
  },
  {
   "cell_type": "code",
   "execution_count": 22,
   "metadata": {},
   "outputs": [
    {
     "name": "stdout",
     "output_type": "stream",
     "text": [
      "What year in college are you?                       Freshman  Grad Student  \\\n",
      "How many hours a week do you spend doing homewo...                           \n",
      "1-2                                                      1.0           0.0   \n",
      "11-12                                                    0.0           0.0   \n",
      "15+                                                      0.0           0.0   \n",
      "3-4                                                      3.0           0.0   \n",
      "5-6                                                      6.0           0.0   \n",
      "7-8                                                      0.0           1.0   \n",
      "9-10                                                     0.0           0.0   \n",
      "\n",
      "What year in college are you?                       Junior  Senior  Sophomore  \n",
      "How many hours a week do you spend doing homewo...                             \n",
      "1-2                                                    0.0     0.0        0.0  \n",
      "11-12                                                  1.0     0.0        1.0  \n",
      "15+                                                    0.0     2.0        0.0  \n",
      "3-4                                                    0.0     1.0        3.0  \n",
      "5-6                                                    2.0     0.0        0.0  \n",
      "7-8                                                    2.0     0.0        3.0  \n",
      "9-10                                                   0.0     0.0        1.0  \n"
     ]
    }
   ],
   "source": [
    "import pandas as pd\n",
    "\n",
    "file_path = 'MP1Form.csv'\n",
    "\n",
    "df = pd.read_csv(file_path)\n",
    "\n",
    "grouped_data = df.groupby(['How many hours a week do you spend doing homework and studying on average?', 'What year in college are you?']).size().reset_index(name='count')\n",
    "\n",
    "pivot_table = grouped_data.pivot(index='How many hours a week do you spend doing homework and studying on average?', columns='What year in college are you?', values='count').fillna(0)\n",
    "\n",
    "print(pivot_table)\n"
   ]
  }
 ],
 "metadata": {
  "kernelspec": {
   "display_name": "base",
   "language": "python",
   "name": "python3"
  },
  "language_info": {
   "codemirror_mode": {
    "name": "ipython",
    "version": 3
   },
   "file_extension": ".py",
   "mimetype": "text/x-python",
   "name": "python",
   "nbconvert_exporter": "python",
   "pygments_lexer": "ipython3",
   "version": "3.11.5"
  }
 },
 "nbformat": 4,
 "nbformat_minor": 2
}
